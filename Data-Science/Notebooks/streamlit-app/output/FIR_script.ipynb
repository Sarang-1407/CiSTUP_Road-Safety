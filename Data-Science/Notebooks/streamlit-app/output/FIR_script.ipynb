{
 "cells": [
  {
   "cell_type": "code",
   "execution_count": 1,
   "metadata": {},
   "outputs": [
    {
     "name": "stdout",
     "output_type": "stream",
     "text": [
      "Looking in indexes: https://pypi.org/simple, https://pypi.ngc.nvidia.com\n",
      "Requirement already satisfied: bs4 in c:\\users\\hp\\appdata\\local\\programs\\python\\python310\\lib\\site-packages (0.0.2)\n",
      "Requirement already satisfied: beautifulsoup4 in c:\\users\\hp\\appdata\\local\\programs\\python\\python310\\lib\\site-packages (from bs4) (4.12.3)\n",
      "Requirement already satisfied: soupsieve>1.2 in c:\\users\\hp\\appdata\\local\\programs\\python\\python310\\lib\\site-packages (from beautifulsoup4->bs4) (2.5)\n",
      "Note: you may need to restart the kernel to use updated packages.\n"
     ]
    },
    {
     "name": "stderr",
     "output_type": "stream",
     "text": [
      "\n",
      "[notice] A new release of pip is available: 24.0 -> 24.3.1\n",
      "[notice] To update, run: python.exe -m pip install --upgrade pip\n"
     ]
    }
   ],
   "source": [
    "pip install bs4"
   ]
  },
  {
   "cell_type": "code",
   "execution_count": 2,
   "metadata": {},
   "outputs": [],
   "source": [
    "import requests, os\n",
    "from bs4 import BeautifulSoup\n",
    "\n",
    "def scrape_firs(district_id, fir_start, fir_end, output_dir):\n",
    "    url = \"https://ksp.karnataka.gov.in/\"\n",
    "    stations_url = f\"https://ksp.karnataka.gov.in/myform/ajax/{district_id}?unit_name={district_id}\"\n",
    "    stations = requests.get(stations_url).json()\n",
    "    ps_ids = [obj[\"station_id\"] for obj in stations]\n",
    "\n",
    "    headers = {\n",
    "        \"Content-Type\": \"application/x-www-form-urlencoded\",\n",
    "        \"User-Agent\": \"Mozilla/5.0\",\n",
    "    }\n",
    "    \n",
    "    data = {\n",
    "        \"district_id\": district_id,\n",
    "        \"knen\": \"en\",\n",
    "        \"random_captcha\": \"LOL\",\n",
    "        \"captcha\": \"LOL\",\n",
    "    }\n",
    "\n",
    "    for ps_id in ps_ids:\n",
    "        for num in range(fir_start, fir_end + 1):\n",
    "            data.update({\"ps_id\": ps_id, \"fir_num\": f\"{num:04}\"})\n",
    "            response = requests.post(\"https://ksp.karnataka.gov.in/fir_search_new_s.php\", headers=headers, data=data)\n",
    "\n",
    "            if \"FIR Not Found!\" in response.text:\n",
    "                print(f\"FIR not found for station {ps_id} and FIR number {data['fir_num']}\")\n",
    "                continue\n",
    "\n",
    "            soup = BeautifulSoup(response.content, \"html.parser\")\n",
    "            pdf_url = url + soup.a[\"href\"]\n",
    "            ps_path = os.path.join(output_dir, str(ps_id))\n",
    "            os.makedirs(ps_path, exist_ok=True)\n",
    "\n",
    "            with open(f\"{ps_path}/fir_{data['fir_num']}.pdf\", \"wb\") as f:\n",
    "                f.write(requests.get(pdf_url).content)\n"
   ]
  }
 ],
 "metadata": {
  "kernelspec": {
   "display_name": "Python 3",
   "language": "python",
   "name": "python3"
  },
  "language_info": {
   "codemirror_mode": {
    "name": "ipython",
    "version": 3
   },
   "file_extension": ".py",
   "mimetype": "text/x-python",
   "name": "python",
   "nbconvert_exporter": "python",
   "pygments_lexer": "ipython3",
   "version": "3.10.4"
  }
 },
 "nbformat": 4,
 "nbformat_minor": 2
}
