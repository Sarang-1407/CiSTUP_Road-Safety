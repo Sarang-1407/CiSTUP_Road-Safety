{
 "cells": [
  {
   "cell_type": "code",
   "execution_count": 2,
   "metadata": {},
   "outputs": [
    {
     "name": "stdout",
     "output_type": "stream",
     "text": [
      "Collecting bs4\n",
      "  Downloading bs4-0.0.2-py2.py3-none-any.whl (1.2 kB)\n",
      "Collecting beautifulsoup4\n",
      "  Downloading beautifulsoup4-4.12.3-py3-none-any.whl (147 kB)\n",
      "     ---------------------------------------- 0.0/147.9 kB ? eta -:--:--\n",
      "     -------- ------------------------------ 30.7/147.9 kB 1.3 MB/s eta 0:00:01\n",
      "     -------------------------------------- 147.9/147.9 kB 1.7 MB/s eta 0:00:00\n",
      "Collecting soupsieve>1.2\n",
      "  Downloading soupsieve-2.5-py3-none-any.whl (36 kB)\n",
      "Installing collected packages: soupsieve, beautifulsoup4, bs4\n",
      "Successfully installed beautifulsoup4-4.12.3 bs4-0.0.2 soupsieve-2.5\n",
      "Note: you may need to restart the kernel to use updated packages.\n"
     ]
    },
    {
     "name": "stderr",
     "output_type": "stream",
     "text": [
      "\n",
      "[notice] A new release of pip is available: 23.0 -> 24.0\n",
      "[notice] To update, run: python.exe -m pip install --upgrade pip\n"
     ]
    }
   ],
   "source": [
    "pip install bs4"
   ]
  },
  {
   "cell_type": "code",
   "execution_count": 3,
   "metadata": {},
   "outputs": [],
   "source": [
    "import requests, json, os\n",
    "from bs4 import BeautifulSoup\n",
    "\n",
    "url = \"https://ksp.karnataka.gov.in/\"\n",
    "stations_url = \"https://ksp.karnataka.gov.in/myform/ajax/5?unit_name=5\"\n",
    "stations = requests.get(stations_url).json()\n",
    "ps_ids = [obj[\"station_id\"] for obj in stations]\n",
    "#   {\n",
    "#     \"id\": 279,\n",
    "#     \"unit_name\": \"Yelahanka PS\",\n",
    "#     \"circle_name\": \"Yelahanka Sub-Division\",\n",
    "#     \"sub_division_name\": \"DCP North East Division\",\n",
    "#     \"phone\": \"080-22942536\",\n",
    "#     \"email\": \"email@ksp.gov.in\",\n",
    "#     \"station_address\": \"YELAHANKA PS, YELAHANKA, BANGALORE-64\",\n",
    "#     \"district_row_id\": 5,\n",
    "#     \"station_id\": 1355,\n",
    "#     \"latitude\": 13.09474,\n",
    "#     \"longitude\": 77.59442,\n",
    "#     \"created_at\": \"2021-07-19 16:24:32\",\n",
    "#     \"updated_at\": \"2021-07-19 16:24:32\"\n",
    "#   }\n",
    "\n",
    "headers = {\n",
    "    \"Content-Type\": \"application/x-www-form-urlencoded\",\n",
    "    \"Origin\": \"https://ksp.karnataka.gov.in\",\n",
    "    \"Referer\": \"https://ksp.karnataka.gov.in/firsearch/en\",\n",
    "    \"Upgrade-Insecure-Requests\": \"1\",\n",
    "    \"User-Agent\": \"Mozilla/5.0 (Windows NT 10.0; Win64; x64) AppleWebKit/537.36 (KHTML, like Gecko) Chrome/121.0.0.0 Safari/537.36\",\n",
    "}\n",
    "\n",
    "data = {\n",
    "    \"district_id\": \"5\",\n",
    "    \"ps_id\": 1382,\n",
    "    \"fir_num\": \"0027\",\n",
    "    \"year\": \"2024\",\n",
    "    \"knen\": \"en\",\n",
    "    \"random_captcha\": \"LOL\",\n",
    "    \"captcha\": \"LOL\",\n",
    "}\n",
    "\n",
    "# Remove list slicing to iterate through all Stations\n",
    "for id in ps_ids[:5]:\n",
    "    # Increase range to 10000 to iterate till fir num 9999\n",
    "    for num in range(1, 6):\n",
    "        data[\"ps_id\"] = id\n",
    "        data[\"fir_num\"] = f\"{num:04}\"\n",
    "        response = requests.post(\n",
    "            \"https://ksp.karnataka.gov.in/fir_search.php\", headers=headers, data=data\n",
    "        )\n",
    "\n",
    "        if \"FIR Not Found!\" in response.text:\n",
    "            print(f\"FIR not found for station {id} and fir number {data['fir_num']}\")\n",
    "            continue\n",
    "\n",
    "        soup = BeautifulSoup(response.content, \"html.parser\")\n",
    "        a_href = soup.a[\"href\"]\n",
    "        pdf_url = url + a_href\n",
    "        full_path = os.path.join(\".\", str(id))\n",
    "        if not os.path.exists(full_path):\n",
    "            os.makedirs(full_path)\n",
    "\n",
    "        with open(f\"{id}/fir_{data['fir_num']}.pdf\", \"wb\") as f:\n",
    "            f.write(requests.get(pdf_url).content)"
   ]
  }
 ],
 "metadata": {
  "kernelspec": {
   "display_name": "Python 3",
   "language": "python",
   "name": "python3"
  },
  "language_info": {
   "codemirror_mode": {
    "name": "ipython",
    "version": 3
   },
   "file_extension": ".py",
   "mimetype": "text/x-python",
   "name": "python",
   "nbconvert_exporter": "python",
   "pygments_lexer": "ipython3",
   "version": "3.10.4"
  }
 },
 "nbformat": 4,
 "nbformat_minor": 2
}
